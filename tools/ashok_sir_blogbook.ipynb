{
 "metadata": {
  "name": "ashok_sir_blogbook"
 },
 "nbformat": 3,
 "nbformat_minor": 0,
 "worksheets": [
  {
   "cells": [
    {
     "cell_type": "code",
     "collapsed": false,
     "input": "from feedparser import parse\nimport sqlite3\nimport os\n\nurl = \"http://ashok567.blogspot.in/feeds/posts/default?alt=rss&v=2&dynamicviews=1&orderby=published&max-results=348&published-max=2013-12-30T18%3A30%3A00.000Z&published-min=2006-01-01T00:00:00%2B05:30\"\nconn = None\n\ndef init_db(path):\n    global conn\n    if(os.path.exists(path)):\n        os.unlink(path)\n    \n    conn = sqlite3.connect(path)\n    c = conn.cursor()\n    c.execute('CREATE TABLE posts(title text, post text, date text)')\n    conn.commit()\n    c.close()\n\ndef insert(data):\n    global conn\n    if not conn:\n        init_db('ashok_blog.db')\n    c = conn.cursor()\n    c.execute('INSERT into posts (title, post, date) values (?, ?, ?)',data)\n    conn.commit()\n    c.close()\n    \nparsed_feed = parse(url)\n\nfor i in range(0, len(parsed_feed['entries'])):\n    item = parsed_feed['entries'][i]\n    insert((item['title'],item['summary_detail']['value'],item['published']))",
     "language": "python",
     "metadata": {},
     "outputs": []
    },
    {
     "cell_type": "code",
     "collapsed": false,
     "input": "import sqlite3\n\nconn = sqlite3.connect('ashok_blog.db')\nc = conn.cursor()\nrs = c.execute('select * from posts')\n\nrecords = rs.fetchall()\n\ni = len(records)\nfor record in records:\n    content = \"\"\n    content = \"\"\"\n<html>\n<body>\n<h1>\"\"\"+ record[0] +\"\"\"</h1>\n\"\"\"+ record[1] +\"\"\"\n</body>\n</html>\"\"\"\n    open(\"../html/\" + str(i) + \".html\",\"w+\").write(content.encode(\"utf-8\"))\n    i = i - 1\nc.close()\nconn.close()",
     "language": "python",
     "metadata": {},
     "outputs": [
      {
       "ename": "SyntaxError",
       "evalue": "invalid syntax (<ipython-input-3-4d1a8bab9af7>, line 19)",
       "output_type": "pyerr",
       "traceback": [
        "\u001b[0;36m  File \u001b[0;32m\"<ipython-input-3-4d1a8bab9af7>\"\u001b[0;36m, line \u001b[0;32m19\u001b[0m\n\u001b[0;31m    \u001b[0m\n\u001b[0m    ^\u001b[0m\n\u001b[0;31mSyntaxError\u001b[0m\u001b[0;31m:\u001b[0m invalid syntax\n"
       ]
      }
     ],
     "prompt_number": 3
    },
    {
     "cell_type": "code",
     "collapsed": false,
     "input": "",
     "language": "python",
     "metadata": {},
     "outputs": []
    }
   ],
   "metadata": {}
  }
 ]
}